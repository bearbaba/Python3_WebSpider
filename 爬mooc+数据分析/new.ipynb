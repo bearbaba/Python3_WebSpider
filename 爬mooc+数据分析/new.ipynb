{
 "nbformat": 4,
 "nbformat_minor": 2,
 "metadata": {
  "language_info": {
   "name": "python",
   "codemirror_mode": {
    "name": "ipython",
    "version": 3
   },
   "version": "3.7.4-final"
  },
  "orig_nbformat": 2,
  "file_extension": ".py",
  "mimetype": "text/x-python",
  "name": "python",
  "npconvert_exporter": "python",
  "pygments_lexer": "ipython3",
  "version": 3,
  "kernelspec": {
   "name": "python37464bit4a842cb5d2494e4582d0ed8e1853a1d2",
   "display_name": "Python 3.7.4 64-bit"
  }
 },
 "cells": [
  {
   "cell_type": "code",
   "execution_count": 5,
   "metadata": {},
   "outputs": [
    {
     "data": {
      "text/html": "<div>\n<style scoped>\n    .dataframe tbody tr th:only-of-type {\n        vertical-align: middle;\n    }\n\n    .dataframe tbody tr th {\n        vertical-align: top;\n    }\n\n    .dataframe thead th {\n        text-align: right;\n    }\n</style>\n<table border=\"1\" class=\"dataframe\">\n  <thead>\n    <tr style=\"text-align: right;\">\n      <th></th>\n      <th>0</th>\n      <th>1</th>\n      <th>2</th>\n      <th>3</th>\n    </tr>\n  </thead>\n  <tbody>\n    <tr>\n      <th>0</th>\n      <td>课程名称</td>\n      <td>课程语言</td>\n      <td>课程难度</td>\n      <td>课程热度</td>\n    </tr>\n    <tr>\n      <th>1</th>\n      <td>利用MATLAB进行数据科学实践</td>\n      <td>英语</td>\n      <td>简单（初级）</td>\n      <td>热度 1,264</td>\n    </tr>\n    <tr>\n      <th>2</th>\n      <td>数据库中的数据</td>\n      <td>英语</td>\n      <td>普通（中级）</td>\n      <td>热度 633</td>\n    </tr>\n    <tr>\n      <th>3</th>\n      <td>数据科学：统计与机器学习</td>\n      <td>英语</td>\n      <td>普通（中级）</td>\n      <td>热度 1,044</td>\n    </tr>\n    <tr>\n      <th>4</th>\n      <td>数据科学：R语言基础</td>\n      <td>中文, 英语, 法语, 日语, 韩语, 西班牙语, 意大利语, 德语, 葡萄牙语, 俄语, 其他</td>\n      <td>简单（初级）</td>\n      <td>热度 928</td>\n    </tr>\n    <tr>\n      <th>5</th>\n      <td>AWS 机器学习入门</td>\n      <td>英语</td>\n      <td>普通（中级）</td>\n      <td>热度 518</td>\n    </tr>\n    <tr>\n      <th>6</th>\n      <td>强化学习</td>\n      <td>英语</td>\n      <td>普通（中级）</td>\n      <td>热度 2,386</td>\n    </tr>\n    <tr>\n      <th>7</th>\n      <td>面向预测分析的Python数据产品</td>\n      <td>英语</td>\n      <td>普通（中级）</td>\n      <td>热度 2,168</td>\n    </tr>\n    <tr>\n      <th>8</th>\n      <td>数据科学伦理</td>\n      <td>英语</td>\n      <td>简单（初级）</td>\n      <td>热度 800</td>\n    </tr>\n    <tr>\n      <th>9</th>\n      <td>准备Google Cloud专业数据工程师考试</td>\n      <td>英语</td>\n      <td>难（高级）</td>\n      <td>热度 1,115</td>\n    </tr>\n    <tr>\n      <th>10</th>\n      <td>基于Google云平台的数据工程</td>\n      <td>英语</td>\n      <td>普通（中级）</td>\n      <td>热度 687</td>\n    </tr>\n    <tr>\n      <th>11</th>\n      <td>基于Google云平台的TensorFlow高级机器学习</td>\n      <td>英语</td>\n      <td>难（高级）</td>\n      <td>热度 880</td>\n    </tr>\n    <tr>\n      <th>12</th>\n      <td>电商推广设计师</td>\n      <td>中文</td>\n      <td>简单（初级）</td>\n      <td>热度 1,521</td>\n    </tr>\n    <tr>\n      <th>13</th>\n      <td>电商数据分析师</td>\n      <td>中文</td>\n      <td>简单（初级）</td>\n      <td>热度 2,009</td>\n    </tr>\n    <tr>\n      <th>14</th>\n      <td>数据可视化</td>\n      <td>中文</td>\n      <td>简单（初级）</td>\n      <td>热度 1,311</td>\n    </tr>\n    <tr>\n      <th>15</th>\n      <td>数据分析师（Excel+SQL）</td>\n      <td>中文</td>\n      <td>简单（初级）</td>\n      <td>热度 2,661</td>\n    </tr>\n    <tr>\n      <th>16</th>\n      <td>Python定量城市研究实战</td>\n      <td>中文</td>\n      <td>普通（中级）</td>\n      <td>热度 2,151</td>\n    </tr>\n    <tr>\n      <th>17</th>\n      <td>应用数据科学</td>\n      <td>英语, 德语, 其他</td>\n      <td>简单（初级）</td>\n      <td>热度 1,151</td>\n    </tr>\n    <tr>\n      <th>18</th>\n      <td>数据科学概论</td>\n      <td>英语, 其他</td>\n      <td>简单（初级）</td>\n      <td>热度 1,380</td>\n    </tr>\n    <tr>\n      <th>19</th>\n      <td>大数据分析：商业应用与策略管理</td>\n      <td>中文</td>\n      <td>简单（初级）</td>\n      <td>热度 1,294</td>\n    </tr>\n    <tr>\n      <th>20</th>\n      <td>数据分析技能速成 Microsoft SQL</td>\n      <td>中文</td>\n      <td>简单（初级）</td>\n      <td>热度 970</td>\n    </tr>\n    <tr>\n      <th>21</th>\n      <td>Python 3 数据分析Data Science零基础完全入门</td>\n      <td>中文</td>\n      <td>简单（初级）</td>\n      <td>热度 2,270</td>\n    </tr>\n    <tr>\n      <th>22</th>\n      <td>轻松学习R 语言</td>\n      <td>中文</td>\n      <td>简单（初级）</td>\n      <td>热度 952</td>\n    </tr>\n    <tr>\n      <th>23</th>\n      <td>Python 与数据科学入门</td>\n      <td>中文</td>\n      <td>简单（初级）</td>\n      <td>热度 1,574</td>\n    </tr>\n    <tr>\n      <th>24</th>\n      <td>SQL/MySQL零基础从入门到精通</td>\n      <td>中文</td>\n      <td>简单（初级）</td>\n      <td>热度 1,624</td>\n    </tr>\n  </tbody>\n</table>\n</div>",
      "text/plain": "                                   0  \\\n0                               课程名称   \n1                   利用MATLAB进行数据科学实践   \n2                            数据库中的数据   \n3                       数据科学：统计与机器学习   \n4                         数据科学：R语言基础   \n5                         AWS 机器学习入门   \n6                               强化学习   \n7                  面向预测分析的Python数据产品   \n8                             数据科学伦理   \n9            准备Google Cloud专业数据工程师考试   \n10                  基于Google云平台的数据工程   \n11      基于Google云平台的TensorFlow高级机器学习   \n12                           电商推广设计师   \n13                           电商数据分析师   \n14                             数据可视化   \n15                  数据分析师（Excel+SQL）   \n16                    Python定量城市研究实战   \n17                            应用数据科学   \n18                            数据科学概论   \n19                   大数据分析：商业应用与策略管理   \n20            数据分析技能速成 Microsoft SQL   \n21  Python 3 数据分析Data Science零基础完全入门   \n22                          轻松学习R 语言   \n23                    Python 与数据科学入门   \n24                SQL/MySQL零基础从入门到精通   \n\n                                                   1       2         3  \n0                                               课程语言    课程难度      课程热度  \n1                                                 英语  简单（初级）  热度 1,264  \n2                                                 英语  普通（中级）    热度 633  \n3                                                 英语  普通（中级）  热度 1,044  \n4   中文, 英语, 法语, 日语, 韩语, 西班牙语, 意大利语, 德语, 葡萄牙语, 俄语, 其他  简单（初级）    热度 928  \n5                                                 英语  普通（中级）    热度 518  \n6                                                 英语  普通（中级）  热度 2,386  \n7                                                 英语  普通（中级）  热度 2,168  \n8                                                 英语  简单（初级）    热度 800  \n9                                                 英语   难（高级）  热度 1,115  \n10                                                英语  普通（中级）    热度 687  \n11                                                英语   难（高级）    热度 880  \n12                                                中文  简单（初级）  热度 1,521  \n13                                                中文  简单（初级）  热度 2,009  \n14                                                中文  简单（初级）  热度 1,311  \n15                                                中文  简单（初级）  热度 2,661  \n16                                                中文  普通（中级）  热度 2,151  \n17                                        英语, 德语, 其他  简单（初级）  热度 1,151  \n18                                            英语, 其他  简单（初级）  热度 1,380  \n19                                                中文  简单（初级）  热度 1,294  \n20                                                中文  简单（初级）    热度 970  \n21                                                中文  简单（初级）  热度 2,270  \n22                                                中文  简单（初级）    热度 952  \n23                                                中文  简单（初级）  热度 1,574  \n24                                                中文  简单（初级）  热度 1,624  "
     },
     "execution_count": 5,
     "metadata": {},
     "output_type": "execute_result"
    }
   ],
   "source": [
    "import pandas as pd\n",
    "pd.read_excel('mooc.xlsx',header=None)"
   ]
  },
  {
   "cell_type": "code",
   "execution_count": null,
   "metadata": {},
   "outputs": [],
   "source": []
  },
  {
   "cell_type": "markdown",
   "execution_count": null,
   "metadata": {},
   "outputs": [],
   "source": [
    "pd"
   ]
  }
 ]
}